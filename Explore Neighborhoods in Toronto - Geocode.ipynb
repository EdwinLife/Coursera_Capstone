{
    "cells": [
        {
            "cell_type": "markdown",
            "metadata": {
                "collapsed": true
            },
            "source": "<h1 align=center><font size = 5>Segmenting and Clustering Neighborhoods in Toronto</font></h1>"
        },
        {
            "cell_type": "markdown",
            "metadata": {},
            "source": "Neighborhoods data is processed to Pandas dataframe from notebook :\nhttps://github.com/EdwinLife/Coursera_Capstone/blob/master/Explore%20Neighborhoods%20in%20Toronto%20-%20Web%20Scraping.ipynb\n\nHere latitude and longitude of Toronto's neighborhoods is obtained from csv file referred in assignment. "
        },
        {
            "cell_type": "markdown",
            "metadata": {},
            "source": "#### Code in first Notebook scraping wikipedia table to Pandas dataframe."
        },
        {
            "cell_type": "code",
            "execution_count": 1,
            "metadata": {},
            "outputs": [
                {
                    "data": {
                        "text/plain": "(103, 3)"
                    },
                    "execution_count": 1,
                    "metadata": {},
                    "output_type": "execute_result"
                }
            ],
            "source": "import pandas as pd\nimport requests\nfrom bs4 import BeautifulSoup\n\n#scrape table from wikipedia page\nurl = 'https://en.wikipedia.org/wiki/List_of_postal_codes_of_Canada:_M'\nsoup = BeautifulSoup(requests.get(url).content, 'lxml')\ntable = soup.find_all('table')[0] \ndf = pd.DataFrame()\n\nheader = []\nfor th in table.find_all(\"th\"):\n    # remove new line and spaces from left and right        \n    header.append(th.text.replace('\\n', ' ').strip())\n\nfor tr in table.tbody.find_all(\"tr\"): # find all <tr> from table's tbody\n    t_row = {}\n    add_row = True\n    for td, th in zip(tr.find_all(\"td\"), header): \n        t_row[th] = td.text.replace('\\n', '').strip()\n        if th == 'Borough' and (t_row[th] == 'Not assigned' or t_row[th] == ''):\n            add_row = False\n        \n    if add_row:\n        df = df.append(t_row, ignore_index=True)\n\ndf = df[header]\ndf = df.groupby(['Postal code','Borough'])['Neighborhood'].apply(', '.join).reset_index()\ndf['Neighborhood'] = df['Neighborhood'].str.replace('/',',')\ndf.rename(columns={'Postal code':'Postal Code'}, inplace='True')\ndf.loc[df['Neighborhood'] == 'Not assigned', 'Neighborhood'] = df['Borough']\ndf.shape"
        },
        {
            "cell_type": "markdown",
            "metadata": {},
            "source": "Geocoder Python package instead: https://geocoder.readthedocs.io/index.html seems to be unreliable as mentioned in Assignment instruction, hence the csv file mentioned is used - that has the geographical coordinates of each postal code: http://cocl.us/Geospatial_data"
        },
        {
            "cell_type": "code",
            "execution_count": 5,
            "metadata": {},
            "outputs": [
                {
                    "data": {
                        "text/html": "<div>\n<style scoped>\n    .dataframe tbody tr th:only-of-type {\n        vertical-align: middle;\n    }\n\n    .dataframe tbody tr th {\n        vertical-align: top;\n    }\n\n    .dataframe thead th {\n        text-align: right;\n    }\n</style>\n<table border=\"1\" class=\"dataframe\">\n  <thead>\n    <tr style=\"text-align: right;\">\n      <th></th>\n      <th>Postal Code</th>\n      <th>Borough</th>\n      <th>Neighborhood</th>\n      <th>Latitude</th>\n      <th>Longitude</th>\n    </tr>\n  </thead>\n  <tbody>\n    <tr>\n      <th>0</th>\n      <td>M1B</td>\n      <td>Scarborough</td>\n      <td>Malvern , Rouge</td>\n      <td>43.806686</td>\n      <td>-79.194353</td>\n    </tr>\n    <tr>\n      <th>1</th>\n      <td>M1C</td>\n      <td>Scarborough</td>\n      <td>Rouge Hill , Port Union , Highland Creek</td>\n      <td>43.784535</td>\n      <td>-79.160497</td>\n    </tr>\n    <tr>\n      <th>2</th>\n      <td>M1E</td>\n      <td>Scarborough</td>\n      <td>Guildwood , Morningside , West Hill</td>\n      <td>43.763573</td>\n      <td>-79.188711</td>\n    </tr>\n    <tr>\n      <th>3</th>\n      <td>M1G</td>\n      <td>Scarborough</td>\n      <td>Woburn</td>\n      <td>43.770992</td>\n      <td>-79.216917</td>\n    </tr>\n    <tr>\n      <th>4</th>\n      <td>M1H</td>\n      <td>Scarborough</td>\n      <td>Cedarbrae</td>\n      <td>43.773136</td>\n      <td>-79.239476</td>\n    </tr>\n    <tr>\n      <th>5</th>\n      <td>M1J</td>\n      <td>Scarborough</td>\n      <td>Scarborough Village</td>\n      <td>43.744734</td>\n      <td>-79.239476</td>\n    </tr>\n    <tr>\n      <th>6</th>\n      <td>M1K</td>\n      <td>Scarborough</td>\n      <td>Kennedy Park , Ionview , East Birchmount Park</td>\n      <td>43.727929</td>\n      <td>-79.262029</td>\n    </tr>\n    <tr>\n      <th>7</th>\n      <td>M1L</td>\n      <td>Scarborough</td>\n      <td>Golden Mile , Clairlea , Oakridge</td>\n      <td>43.711112</td>\n      <td>-79.284577</td>\n    </tr>\n    <tr>\n      <th>8</th>\n      <td>M1M</td>\n      <td>Scarborough</td>\n      <td>Cliffside , Cliffcrest , Scarborough Village West</td>\n      <td>43.716316</td>\n      <td>-79.239476</td>\n    </tr>\n    <tr>\n      <th>9</th>\n      <td>M1N</td>\n      <td>Scarborough</td>\n      <td>Birch Cliff , Cliffside West</td>\n      <td>43.692657</td>\n      <td>-79.264848</td>\n    </tr>\n    <tr>\n      <th>10</th>\n      <td>M1P</td>\n      <td>Scarborough</td>\n      <td>Dorset Park , Wexford Heights , Scarborough To...</td>\n      <td>43.757410</td>\n      <td>-79.273304</td>\n    </tr>\n    <tr>\n      <th>11</th>\n      <td>M1R</td>\n      <td>Scarborough</td>\n      <td>Wexford , Maryvale</td>\n      <td>43.750072</td>\n      <td>-79.295849</td>\n    </tr>\n  </tbody>\n</table>\n</div>",
                        "text/plain": "   Postal Code      Borough  \\\n0          M1B  Scarborough   \n1          M1C  Scarborough   \n2          M1E  Scarborough   \n3          M1G  Scarborough   \n4          M1H  Scarborough   \n5          M1J  Scarborough   \n6          M1K  Scarborough   \n7          M1L  Scarborough   \n8          M1M  Scarborough   \n9          M1N  Scarborough   \n10         M1P  Scarborough   \n11         M1R  Scarborough   \n\n                                         Neighborhood   Latitude  Longitude  \n0                                     Malvern , Rouge  43.806686 -79.194353  \n1            Rouge Hill , Port Union , Highland Creek  43.784535 -79.160497  \n2                 Guildwood , Morningside , West Hill  43.763573 -79.188711  \n3                                              Woburn  43.770992 -79.216917  \n4                                           Cedarbrae  43.773136 -79.239476  \n5                                 Scarborough Village  43.744734 -79.239476  \n6       Kennedy Park , Ionview , East Birchmount Park  43.727929 -79.262029  \n7                   Golden Mile , Clairlea , Oakridge  43.711112 -79.284577  \n8   Cliffside , Cliffcrest , Scarborough Village West  43.716316 -79.239476  \n9                        Birch Cliff , Cliffside West  43.692657 -79.264848  \n10  Dorset Park , Wexford Heights , Scarborough To...  43.757410 -79.273304  \n11                                 Wexford , Maryvale  43.750072 -79.295849  "
                    },
                    "execution_count": 5,
                    "metadata": {},
                    "output_type": "execute_result"
                }
            ],
            "source": "import numpy as np\ndf_geo = pd.read_csv('http://cocl.us/Geospatial_data')\ndf_geo.head()\n\ndf_join = pd.merge(df, df_geo, on='Postal Code', how='left')\ndf_join.head(12)"
        }
    ],
    "metadata": {
        "kernelspec": {
            "display_name": "Python 3.6",
            "language": "python",
            "name": "python3"
        },
        "language_info": {
            "codemirror_mode": {
                "name": "ipython",
                "version": 3
            },
            "file_extension": ".py",
            "mimetype": "text/x-python",
            "name": "python",
            "nbconvert_exporter": "python",
            "pygments_lexer": "ipython3",
            "version": "3.6.9"
        }
    },
    "nbformat": 4,
    "nbformat_minor": 1
}